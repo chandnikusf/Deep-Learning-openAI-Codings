{
 "cells": [
  {
   "cell_type": "code",
   "execution_count": null,
   "metadata": {},
   "outputs": [],
   "source": [
    "## example\n",
    "\n",
    "##cql\n",
    "CREATE TABLE user_playlists (\n",
    "    user_id UUID,\n",
    "    song_added_date TIMESTAMP,\n",
    "    song_id UUID,\n",
    "    song_name TEXT,\n",
    "    PRIMARY KEY (user_id, song_added_date)\n",
    ");\n",
    "\n",
    "#python\n",
    "from cassandra.cluster import Cluster\n",
    "\n",
    "cluster = Cluster(['localhost'])  # adjust ['localhost'] to your list of Cassandra nodes if different\n",
    "session = cluster.connect('your_keyspace_name')  # replace with your keyspace name\n",
    "\n",
    "# Define the materialized view query\n",
    "mv_query = \"\"\"\n",
    "CREATE MATERIALIZED VIEW song_lookup AS\n",
    "    SELECT user_id, song_added_date, song_id, song_name\n",
    "    FROM user_playlists\n",
    "    WHERE song_id IS NOT NULL AND user_id IS NOT NULL AND song_added_date IS NOT NULL\n",
    "    PRIMARY KEY (song_id, user_id, song_added_date);\n",
    "\"\"\"\n",
    "\n",
    "# Execute the query\n",
    "session.execute(mv_query)\n",
    "\n",
    "##cql\n",
    "SELECT * FROM song_lookup WHERE song_id = ?; #In this query, you'd replace the ? with the specific song_id value you're looking for.\n",
    "\n",
    "## same query in python \n",
    "\n",
    "song_id_to_query = your_song_id_value  # replace this with the actual UUID value of song_id you want to query\n",
    "\n",
    "# Query the materialized view\n",
    "rows = session.execute('SELECT * FROM song_lookup WHERE song_id = %s', [song_id_to_query])\n",
    "\n",
    "for row in rows:\n",
    "    print(row.user_id, row.song_added_date, row.song_id, row.song_name)\n",
    "\n",
    "cluster.shutdown()"
   ]
  }
 ],
 "metadata": {
  "language_info": {
   "name": "python"
  },
  "orig_nbformat": 4
 },
 "nbformat": 4,
 "nbformat_minor": 2
}
